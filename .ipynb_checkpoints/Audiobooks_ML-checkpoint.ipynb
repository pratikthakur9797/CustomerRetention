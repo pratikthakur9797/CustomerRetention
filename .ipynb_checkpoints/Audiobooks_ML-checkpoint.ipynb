{
 "cells": [
  {
   "cell_type": "markdown",
   "id": "f85790fd",
   "metadata": {},
   "source": [
    "## This Notebook is the continuation of the Prepocessing Notebook"
   ]
  },
  {
   "cell_type": "code",
   "execution_count": 1,
   "id": "acdbd5b6",
   "metadata": {},
   "outputs": [],
   "source": [
    "import numpy as np\n",
    "import tensorflow as tf"
   ]
  },
  {
   "cell_type": "code",
   "execution_count": 2,
   "id": "99ac1e0b",
   "metadata": {},
   "outputs": [],
   "source": [
    "npz = np.load('Audiobooks_data_train.npz')\n",
    "train_inputs = npz['inputs']\n",
    "train_targets = npz['targets']\n",
    "\n",
    "npz = np.load('Audiobooks_data_validation.npz')\n",
    "validation_inputs = npz['inputs']\n",
    "validation_targets = npz['targets']\n",
    "\n",
    "npz = np.load('Audiobooks_data_test.npz')\n",
    "test_inputs = npz['inputs']\n",
    "test_targets = npz['targets']"
   ]
  },
  {
   "cell_type": "markdown",
   "id": "c60abf4a",
   "metadata": {},
   "source": [
    "### Model creation"
   ]
  },
  {
   "cell_type": "code",
   "execution_count": 3,
   "id": "e79e0153",
   "metadata": {},
   "outputs": [
    {
     "name": "stdout",
     "output_type": "stream",
     "text": [
      "Epoch 1/100\n",
      "36/36 - 0s - loss: 0.5811 - accuracy: 0.6781 - val_loss: 0.4307 - val_accuracy: 0.8188\n",
      "Epoch 2/100\n",
      "36/36 - 0s - loss: 0.4305 - accuracy: 0.7695 - val_loss: 0.3483 - val_accuracy: 0.8479\n",
      "Epoch 3/100\n",
      "36/36 - 0s - loss: 0.3886 - accuracy: 0.7846 - val_loss: 0.3295 - val_accuracy: 0.8166\n",
      "Epoch 4/100\n",
      "36/36 - 0s - loss: 0.3709 - accuracy: 0.7977 - val_loss: 0.3123 - val_accuracy: 0.8255\n",
      "Epoch 5/100\n",
      "36/36 - 0s - loss: 0.3597 - accuracy: 0.8019 - val_loss: 0.3033 - val_accuracy: 0.8389\n",
      "Epoch 6/100\n",
      "36/36 - 0s - loss: 0.3582 - accuracy: 0.8002 - val_loss: 0.3097 - val_accuracy: 0.8367\n",
      "Epoch 7/100\n",
      "36/36 - 0s - loss: 0.3475 - accuracy: 0.8078 - val_loss: 0.3025 - val_accuracy: 0.8389\n",
      "Epoch 8/100\n",
      "36/36 - 0s - loss: 0.3417 - accuracy: 0.8156 - val_loss: 0.2944 - val_accuracy: 0.8389\n",
      "Epoch 9/100\n",
      "36/36 - 0s - loss: 0.3411 - accuracy: 0.8120 - val_loss: 0.3020 - val_accuracy: 0.8367\n",
      "Epoch 10/100\n",
      "36/36 - 0s - loss: 0.3391 - accuracy: 0.8150 - val_loss: 0.2950 - val_accuracy: 0.8412\n"
     ]
    },
    {
     "data": {
      "text/plain": [
       "<tensorflow.python.keras.callbacks.History at 0x189fccd0d00>"
      ]
     },
     "execution_count": 3,
     "metadata": {},
     "output_type": "execute_result"
    }
   ],
   "source": [
    "input_size = 10\n",
    "output_size = 2\n",
    "hidden_layer_size = 50\n",
    "\n",
    "#creating model layers\n",
    "model = tf.keras.Sequential([\n",
    "                            tf.keras.layers.Dense(hidden_layer_size, activation = 'relu'),\n",
    "                            tf.keras.layers.Dense(hidden_layer_size, activation = 'tanh'),\n",
    "                            tf.keras.layers.Dense(hidden_layer_size, activation = 'relu'),\n",
    "                            tf.keras.layers.Dense(output_size, activation = 'softmax') \n",
    "                            ])\n",
    "\n",
    "model.compile(optimizer = 'adam', loss = 'sparse_categorical_crossentropy', metrics = ['accuracy'])\n",
    "\n",
    "batch_size = 100\n",
    "max_epochs = 100\n",
    "\n",
    "early_stopping = tf.keras.callbacks.EarlyStopping(patience = 2)\n",
    "\n",
    "model.fit(train_inputs, train_targets, batch_size = batch_size, epochs = max_epochs, callbacks = [early_stopping], validation_data = (validation_inputs, validation_targets), verbose = 2)"
   ]
  },
  {
   "cell_type": "markdown",
   "id": "4c07bc0a",
   "metadata": {},
   "source": [
    "### Testing the Model"
   ]
  },
  {
   "cell_type": "code",
   "execution_count": 6,
   "id": "92f44ae7",
   "metadata": {},
   "outputs": [
    {
     "name": "stdout",
     "output_type": "stream",
     "text": [
      "14/14 [==============================] - 0s 848us/step - loss: 0.3326 - accuracy: 0.8147\n"
     ]
    }
   ],
   "source": [
    "test_loss, test_accuracy = model.evaluate(test_inputs, test_targets) "
   ]
  },
  {
   "cell_type": "markdown",
   "id": "e21aa153",
   "metadata": {},
   "source": [
    "## The model is ready!"
   ]
  },
  {
   "cell_type": "code",
   "execution_count": null,
   "id": "3bb76440",
   "metadata": {},
   "outputs": [],
   "source": []
  }
 ],
 "metadata": {
  "kernelspec": {
   "display_name": "Python (Tensorflow 2.0)",
   "language": "python",
   "name": "py-tf"
  },
  "language_info": {
   "codemirror_mode": {
    "name": "ipython",
    "version": 3
   },
   "file_extension": ".py",
   "mimetype": "text/x-python",
   "name": "python",
   "nbconvert_exporter": "python",
   "pygments_lexer": "ipython3",
   "version": "3.8.10"
  }
 },
 "nbformat": 4,
 "nbformat_minor": 5
}
